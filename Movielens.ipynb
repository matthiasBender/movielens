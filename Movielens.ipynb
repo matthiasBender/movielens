{
 "cells": [
  {
   "cell_type": "code",
   "execution_count": 1,
   "metadata": {
    "ExecuteTime": {
     "end_time": "2017-03-04T13:08:58.662975Z",
     "start_time": "2017-03-04T14:08:58.658753+01:00"
    },
    "collapsed": false,
    "deletable": true,
    "editable": true
   },
   "outputs": [],
   "source": [
    "from itertools import islice\n",
    "from datetime import datetime\n",
    "import json\n",
    "import pandas as pd\n",
    "import numpy as np\n",
    "from pprint import pprint\n",
    "\n",
    "np.set_printoptions(precision=3, suppress=True)"
   ]
  },
  {
   "cell_type": "code",
   "execution_count": 2,
   "metadata": {
    "ExecuteTime": {
     "end_time": "2017-03-04T13:09:09.042191Z",
     "start_time": "2017-03-04T14:08:59.529256+01:00"
    },
    "collapsed": false,
    "deletable": true,
    "editable": true
   },
   "outputs": [],
   "source": [
    "files = \"./ml-20m/\"\n",
    "movies = pd.read_csv(files + \"movies.csv\", index_col=\"movieId\")\n",
    "ratings = pd.read_csv(files + \"ratings.csv\", index_col=[\"movieId\", \"userId\"])"
   ]
  },
  {
   "cell_type": "code",
   "execution_count": 3,
   "metadata": {
    "ExecuteTime": {
     "end_time": "2017-03-04T13:09:09.063214Z",
     "start_time": "2017-03-04T14:09:09.043840+01:00"
    },
    "collapsed": false,
    "deletable": true,
    "editable": true
   },
   "outputs": [],
   "source": [
    "movies.genres = movies.genres.str.split(\"|\")"
   ]
  },
  {
   "cell_type": "code",
   "execution_count": 4,
   "metadata": {
    "ExecuteTime": {
     "end_time": "2017-03-04T13:09:09.572397Z",
     "start_time": "2017-03-04T14:09:09.064510+01:00"
    },
    "collapsed": false,
    "deletable": true,
    "editable": true
   },
   "outputs": [],
   "source": [
    "R = ratings.rating\n",
    "movies[\"rating\"] = R.mean(level=\"movieId\")"
   ]
  },
  {
   "cell_type": "code",
   "execution_count": 5,
   "metadata": {
    "ExecuteTime": {
     "end_time": "2017-03-04T13:09:38.296592Z",
     "start_time": "2017-03-04T14:09:09.573740+01:00"
    },
    "collapsed": false,
    "deletable": true,
    "editable": true
   },
   "outputs": [],
   "source": [
    "ratings.timestamp = ratings.timestamp.apply(datetime.fromtimestamp)"
   ]
  },
  {
   "cell_type": "code",
   "execution_count": 6,
   "metadata": {
    "ExecuteTime": {
     "end_time": "2017-03-04T13:09:38.465898Z",
     "start_time": "2017-03-04T14:09:38.298371+01:00"
    },
    "collapsed": false,
    "deletable": true,
    "editable": true
   },
   "outputs": [
    {
     "data": {
      "text/plain": [
       "0.099149146678717062"
      ]
     },
     "execution_count": 6,
     "metadata": {},
     "output_type": "execute_result"
    }
   ],
   "source": [
    "m1, m2 = movies.ix[318], movies.ix[858]\n",
    "r1 = R.ix[m1.name] - m1.rating\n",
    "r2 = R.ix[m2.name] - m2.rating\n",
    "similarity = (r1 * r2).sum(skipna=True) / np.sqrt((r1**2).sum() * (r2**2).sum())\n",
    "similarity"
   ]
  },
  {
   "cell_type": "code",
   "execution_count": 7,
   "metadata": {
    "ExecuteTime": {
     "end_time": "2017-03-04T13:09:38.591657Z",
     "start_time": "2017-03-04T14:09:38.467395+01:00"
    },
    "collapsed": false,
    "deletable": true,
    "editable": true
   },
   "outputs": [
    {
     "data": {
      "text/plain": [
       "0.50176855139158272"
      ]
     },
     "execution_count": 7,
     "metadata": {},
     "output_type": "execute_result"
    }
   ],
   "source": [
    "def cosine(r1, r2):\n",
    "    count = (r1 * r2).sum(skipna=True)\n",
    "    if count <= 0:\n",
    "        return 0.0\n",
    "    return count / np.sqrt((r1**2).sum() * (r2**2).sum())\n",
    "\n",
    "cosine(R.ix[m1.name], R.ix[m2.name])"
   ]
  },
  {
   "cell_type": "code",
   "execution_count": 8,
   "metadata": {
    "ExecuteTime": {
     "end_time": "2017-03-04T13:09:38.719328Z",
     "start_time": "2017-03-04T14:09:38.592831+01:00"
    },
    "code_folding": [],
    "collapsed": false,
    "deletable": true,
    "editable": true
   },
   "outputs": [
    {
     "data": {
      "text/plain": [
       "0.099149146678717062"
      ]
     },
     "execution_count": 8,
     "metadata": {},
     "output_type": "execute_result"
    }
   ],
   "source": [
    "def sim_peason(m1, m2, r1, r2):\n",
    "    return cosine(r1 - m1.rating, r2 - m2.rating)\n",
    "\n",
    "sim_peason(m1, m2, R.ix[m1.name], R.ix[m2.name])"
   ]
  },
  {
   "cell_type": "code",
   "execution_count": 29,
   "metadata": {
    "ExecuteTime": {
     "end_time": "2017-03-04T14:09:39.737860Z",
     "start_time": "2017-03-04T15:09:39.734320+01:00"
    },
    "collapsed": false
   },
   "outputs": [
    {
     "data": {
      "text/plain": [
       "Int64Index([1, 2, 3, 4, 5, 6, 7, 8, 9], dtype='int64', name='movieId')"
      ]
     },
     "execution_count": 29,
     "metadata": {},
     "output_type": "execute_result"
    }
   ],
   "source": [
    "movies.ix[:10-1].index"
   ]
  },
  {
   "cell_type": "code",
   "execution_count": 32,
   "metadata": {
    "ExecuteTime": {
     "end_time": "2017-03-04T14:11:41.023666Z",
     "start_time": "2017-03-04T15:11:40.149623+01:00"
    },
    "collapsed": false
   },
   "outputs": [
    {
     "data": {
      "text/plain": [
       "array([ 0.382,  0.427,  0.203,  0.124,  0.205,  0.377,  0.212,  0.109,\n",
       "        0.167])"
      ]
     },
     "execution_count": 32,
     "metadata": {},
     "output_type": "execute_result"
    }
   ],
   "source": [
    "def calculate_sim(movieId, target_ids):\n",
    "    return np.array([\n",
    "        cosine(R.ix[movieId], R.ix[m]) for m in target_ids\n",
    "    ])\n",
    "\n",
    "calculate_sim(10, movies.ix[:10-1].index)"
   ]
  },
  {
   "cell_type": "code",
   "execution_count": 38,
   "metadata": {
    "ExecuteTime": {
     "end_time": "2017-03-04T14:15:55.808449Z",
     "start_time": "2017-03-04T15:15:55.792849+01:00"
    },
    "collapsed": false,
    "deletable": true,
    "editable": true
   },
   "outputs": [
    {
     "data": {
      "text/plain": [
       "[(1, Int64Index([], dtype='int64', name='movieId')),\n",
       " (2, Int64Index([1], dtype='int64', name='movieId')),\n",
       " (3, Int64Index([1, 2], dtype='int64', name='movieId')),\n",
       " (4, Int64Index([1, 2, 3], dtype='int64', name='movieId')),\n",
       " (5, Int64Index([1, 2, 3, 4], dtype='int64', name='movieId')),\n",
       " (6, Int64Index([1, 2, 3, 4, 5], dtype='int64', name='movieId')),\n",
       " (7, Int64Index([1, 2, 3, 4, 5, 6], dtype='int64', name='movieId')),\n",
       " (8, Int64Index([1, 2, 3, 4, 5, 6, 7], dtype='int64', name='movieId')),\n",
       " (9, Int64Index([1, 2, 3, 4, 5, 6, 7, 8], dtype='int64', name='movieId')),\n",
       " (10, Int64Index([1, 2, 3, 4, 5, 6, 7, 8, 9], dtype='int64', name='movieId'))]"
      ]
     },
     "execution_count": 38,
     "metadata": {},
     "output_type": "execute_result"
    }
   ],
   "source": [
    "def iterate_movies(movies):\n",
    "    for i in movies.index:\n",
    "        yield i, movies.ix[:i-1].index\n",
    "\n",
    "list(islice(iterate_movies(movies), 10))"
   ]
  },
  {
   "cell_type": "code",
   "execution_count": 43,
   "metadata": {
    "ExecuteTime": {
     "end_time": "2017-03-04T14:25:17.872740Z",
     "start_time": "2017-03-04T15:25:17.770351+01:00"
    },
    "collapsed": true
   },
   "outputs": [],
   "source": [
    "rdd = sc.parallelize(\n",
    "    islice(iterate_movies(movies), 1000), 8\n",
    ").map(\n",
    "    lambda x: calculate_sim(x[0], x[1])\n",
    ")"
   ]
  },
  {
   "cell_type": "code",
   "execution_count": null,
   "metadata": {
    "ExecuteTime": {
     "start_time": "2017-03-04T14:25:33.330Z"
    },
    "collapsed": false
   },
   "outputs": [],
   "source": [
    "similarities = rdd.collect()"
   ]
  },
  {
   "cell_type": "code",
   "execution_count": 32,
   "metadata": {
    "ExecuteTime": {
     "end_time": "2017-02-18T19:50:45.067872",
     "start_time": "2017-02-18T19:50:45.057481"
    },
    "collapsed": false,
    "deletable": true,
    "editable": true
   },
   "outputs": [
    {
     "data": {
      "text/plain": [
       "array([[ 1.        ,  0.31501184,  0.17379116,  0.16582331,  0.21226605,\n",
       "         0.11603759,  0.19424208,  0.19642781,  0.08660063,  0.22551062,\n",
       "         0.20889393, -0.00774983,  0.23755015,  0.1103709 ,  0.14167647,\n",
       "         0.08702847,  0.18640497,  0.00199259,  0.14468261,  0.08724871],\n",
       "       [ 0.31501184,  1.        ,  0.35424204,  0.30434227,  0.42471435,\n",
       "         0.11666153,  0.34585337,  0.40833376,  0.38390436,  0.29971012,\n",
       "         0.28986993,  0.29343352,  0.36508444,  0.12953916,  0.44822586,\n",
       "         0.13384564,  0.17119933,  0.1845611 ,  0.3075455 ,  0.40804445],\n",
       "       [ 0.17379116,  0.35424204,  1.        ,  0.27102355,  0.47317664,\n",
       "         0.15431559,  0.30378027,  0.47393198,  0.30958607,  0.27860627,\n",
       "         0.2925893 ,  0.30834273,  0.36490975,  0.08996912,  0.3289103 ,\n",
       "         0.14294103,  0.09119123,  0.18655605,  0.29257432,  0.39560433],\n",
       "       [ 0.16582331,  0.30434227,  0.27102355,  1.        ,  0.34759068,\n",
       "         0.1616584 ,  0.29106905,  0.49372458,  0.29279963,  0.17516809,\n",
       "         0.26734568,  0.31314247,  0.42613336,  0.1473461 ,  0.3140972 ,\n",
       "         0.1389469 ,  0.16900302,  0.13836498,  0.18034434,  0.31975259],\n",
       "       [ 0.21226605,  0.42471435,  0.47317664,  0.34759068,  1.        ,\n",
       "         0.13272312,  0.41054638,  0.49600105,  0.34172577,  0.29887473,\n",
       "         0.38376683,  0.29751399,  0.37063877,  0.07486017,  0.33166571,\n",
       "         0.11724153,  0.17716843,  0.10525794,  0.30022906,  0.35330848],\n",
       "       [ 0.11603759,  0.11666153,  0.15431559,  0.1616584 ,  0.13272312,\n",
       "         1.        ,  0.16419109,  0.11437517,  0.09044948,  0.20136357,\n",
       "         0.13589181,  0.09285555,  0.1337895 ,  0.17167163,  0.12516623,\n",
       "         0.36802523,  0.11213525,  0.15862349,  0.13503171,  0.15055968],\n",
       "       [ 0.19424208,  0.34585337,  0.30378027,  0.29106905,  0.41054638,\n",
       "         0.16419109,  1.        ,  0.3398415 ,  0.29285677,  0.29852414,\n",
       "         0.40605719,  0.21707586,  0.32870759,  0.13164999,  0.27546407,\n",
       "         0.11138813,  0.23041283,  0.14961316,  0.13400928,  0.26545512],\n",
       "       [ 0.19642781,  0.40833376,  0.47393198,  0.49372458,  0.49600105,\n",
       "         0.11437517,  0.3398415 ,  1.        ,  0.42441345,  0.15407804,\n",
       "         0.31209834,  0.43848384,  0.46258785,  0.1668574 ,  0.45369213,\n",
       "         0.0903011 ,  0.23334287,  0.19315112,  0.36223229,  0.40896486],\n",
       "       [ 0.08660063,  0.38390436,  0.30958607,  0.29279963,  0.34172577,\n",
       "         0.09044948,  0.29285677,  0.42441345,  1.        ,  0.27071556,\n",
       "         0.27528353,  0.41291722,  0.43913265,  0.14478696,  0.41877431,\n",
       "         0.10822034,  0.02444813,  0.24216468,  0.26588459,  0.56257344],\n",
       "       [ 0.22551062,  0.29971012,  0.27860627,  0.17516809,  0.29887473,\n",
       "         0.20136357,  0.29852414,  0.15407804,  0.27071556,  1.        ,\n",
       "         0.2592169 ,  0.26590382,  0.19850219,  0.0934284 ,  0.28788394,\n",
       "         0.16413508,  0.11250739,  0.16890394,  0.24541169,  0.26834468],\n",
       "       [ 0.20889393,  0.28986993,  0.2925893 ,  0.26734568,  0.38376683,\n",
       "         0.13589181,  0.40605719,  0.31209834,  0.27528353,  0.2592169 ,\n",
       "         1.        ,  0.1711855 ,  0.33422611,  0.2205944 ,  0.256372  ,\n",
       "         0.10994616,  0.200338  ,  0.15046394,  0.12751123,  0.21924206],\n",
       "       [-0.00774983,  0.29343352,  0.30834273,  0.31314247,  0.29751399,\n",
       "         0.09285555,  0.21707586,  0.43848384,  0.41291722,  0.26590382,\n",
       "         0.1711855 ,  1.        ,  0.31340825,  0.09860872,  0.38626734,\n",
       "         0.13809451,  0.0109755 ,  0.1881131 ,  0.40089416,  0.44448635],\n",
       "       [ 0.23755015,  0.36508444,  0.36490975,  0.42613336,  0.37063877,\n",
       "         0.1337895 ,  0.32870759,  0.46258785,  0.43913265,  0.19850219,\n",
       "         0.33422611,  0.31340825,  1.        ,  0.27445442,  0.35220298,\n",
       "         0.14693633,  0.17440139,  0.23972593,  0.25078191,  0.46159767],\n",
       "       [ 0.1103709 ,  0.12953916,  0.08996912,  0.1473461 ,  0.07486017,\n",
       "         0.17167163,  0.13164999,  0.1668574 ,  0.14478696,  0.0934284 ,\n",
       "         0.2205944 ,  0.09860872,  0.27445442,  1.        ,  0.07510962,\n",
       "         0.3106169 ,  0.16570638,  0.12272452,  0.07319994,  0.08980579],\n",
       "       [ 0.14167647,  0.44822586,  0.3289103 ,  0.3140972 ,  0.33166571,\n",
       "         0.12516623,  0.27546407,  0.45369213,  0.41877431,  0.28788394,\n",
       "         0.256372  ,  0.38626734,  0.35220298,  0.07510962,  1.        ,\n",
       "         0.13569232,  0.04938201,  0.25535989,  0.23447911,  0.44736642],\n",
       "       [ 0.08702847,  0.13384564,  0.14294103,  0.1389469 ,  0.11724153,\n",
       "         0.36802523,  0.11138813,  0.0903011 ,  0.10822034,  0.16413508,\n",
       "         0.10994616,  0.13809451,  0.14693633,  0.3106169 ,  0.13569232,\n",
       "         1.        ,  0.10021155,  0.1772054 ,  0.15531438,  0.12178652],\n",
       "       [ 0.18640497,  0.17119933,  0.09119123,  0.16900302,  0.17716843,\n",
       "         0.11213525,  0.23041283,  0.23334287,  0.02444813,  0.11250739,\n",
       "         0.200338  ,  0.0109755 ,  0.17440139,  0.16570638,  0.04938201,\n",
       "         0.10021155,  1.        ,  0.03041109,  0.04920968,  0.04678664],\n",
       "       [ 0.00199259,  0.1845611 ,  0.18655605,  0.13836498,  0.10525794,\n",
       "         0.15862349,  0.14961316,  0.19315112,  0.24216468,  0.16890394,\n",
       "         0.15046394,  0.1881131 ,  0.23972593,  0.12272452,  0.25535989,\n",
       "         0.1772054 ,  0.03041109,  1.        ,  0.2294723 ,  0.29137089],\n",
       "       [ 0.14468261,  0.3075455 ,  0.29257432,  0.18034434,  0.30022906,\n",
       "         0.13503171,  0.13400928,  0.36223229,  0.26588459,  0.24541169,\n",
       "         0.12751123,  0.40089416,  0.25078191,  0.07319994,  0.23447911,\n",
       "         0.15531438,  0.04920968,  0.2294723 ,  1.        ,  0.29629822],\n",
       "       [ 0.08724871,  0.40804445,  0.39560433,  0.31975259,  0.35330848,\n",
       "         0.15055968,  0.26545512,  0.40896486,  0.56257344,  0.26834468,\n",
       "         0.21924206,  0.44448635,  0.46159767,  0.08980579,  0.44736642,\n",
       "         0.12178652,  0.04678664,  0.29137089,  0.29629822,  1.        ]])"
      ]
     },
     "execution_count": 32,
     "metadata": {},
     "output_type": "execute_result"
    }
   ],
   "source": [
    "max_len = sims[-1].size\n",
    "result = np.zeros((max_len, max_len))\n",
    "for i, s in enumerate(sims):\n",
    "    result[i, :s.size] = s\n",
    "result + result.T - np.identity(max_len)"
   ]
  },
  {
   "cell_type": "code",
   "execution_count": 12,
   "metadata": {
    "ExecuteTime": {
     "end_time": "2017-02-18T19:40:20.275681",
     "start_time": "2017-02-18T19:40:20.259596"
    },
    "collapsed": false,
    "deletable": true,
    "editable": true
   },
   "outputs": [],
   "source": [
    "#sims = rdd.collect() # aggregate(\"\", lambda acc, x: \"{}\\n{}\".format(acc, json.dumps(x)), lambda x, y: \"{}\\iin{}\".format(x, y))"
   ]
  }
 ],
 "metadata": {
  "kernelspec": {
   "display_name": "Python 3",
   "language": "python",
   "name": "python3"
  },
  "language_info": {
   "codemirror_mode": {
    "name": "ipython",
    "version": 3
   },
   "file_extension": ".py",
   "mimetype": "text/x-python",
   "name": "python",
   "nbconvert_exporter": "python",
   "pygments_lexer": "ipython3",
   "version": "3.5.2"
  }
 },
 "nbformat": 4,
 "nbformat_minor": 2
}
