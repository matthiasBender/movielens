{
 "cells": [
  {
   "cell_type": "code",
   "execution_count": null,
   "metadata": {
    "ExecuteTime": {
     "end_time": "2017-03-22T14:04:44.668600Z",
     "start_time": "2017-03-22T15:04:44.330007+01:00"
    },
    "collapsed": false,
    "deletable": true,
    "editable": true,
    "slideshow": {
     "slide_type": "subslide"
    }
   },
   "outputs": [],
   "source": [
    "%matplotlib inline\n",
    "import pandas as pd\n",
    "import numpy as np\n",
    "import matplotlib.pyplot as plt\n",
    "import matplotlib\n",
    "from pprint import pprint\n",
    "from itertools import islice\n",
    "\n",
    "np.set_printoptions(precision=4)\n",
    "matplotlib.rcParams['figure.figsize'] = (20.0, 10.0)\n",
    "matplotlib.rcParams['text.color'] = 'cdd2e9'\n",
    "matplotlib.rcParams[\"axes.labelcolor\"] = \"cdd2e9\"\n",
    "matplotlib.rcParams[\"axes.edgecolor\"] = \"cdd2e9\"\n",
    "matplotlib.rcParams[\"axes.facecolor\"] = \"cdd2e9\"\n",
    "matplotlib.rcParams[\"axes.labelcolor\"] = \"cdd2e9\"\n",
    "matplotlib.rcParams[\"xtick.color\"] = \"cdd2e9\"\n",
    "matplotlib.rcParams[\"ytick.color\"] = \"cdd2e9\""
   ]
  },
  {
   "cell_type": "markdown",
   "metadata": {
    "deletable": true,
    "editable": true
   },
   "source": [
    "### Array Definition:\n",
    "- Pointer to Memory Blob\n",
    "- dtype\n",
    "- Shape\n",
    "- Strides"
   ]
  },
  {
   "cell_type": "code",
   "execution_count": null,
   "metadata": {
    "ExecuteTime": {
     "end_time": "2017-03-22T14:36:06.826486Z",
     "start_time": "2017-03-22T15:36:06.822399+01:00"
    },
    "collapsed": false,
    "deletable": true,
    "editable": true
   },
   "outputs": [],
   "source": [
    "a = np.arange(20).reshape((4,5))\n",
    "a.strides, a"
   ]
  },
  {
   "cell_type": "markdown",
   "metadata": {
    "deletable": true,
    "editable": true
   },
   "source": [
    "### Types:"
   ]
  },
  {
   "cell_type": "code",
   "execution_count": null,
   "metadata": {
    "ExecuteTime": {
     "end_time": "2017-03-22T14:36:07.959730Z",
     "start_time": "2017-03-22T15:36:07.956111+01:00"
    },
    "collapsed": false,
    "deletable": true,
    "editable": true
   },
   "outputs": [],
   "source": [
    "# array creation, dtypes\n",
    "c = np.array([1, 2, 3.0, 4, \"1234\"])\n",
    "c"
   ]
  },
  {
   "cell_type": "markdown",
   "metadata": {},
   "source": [
    "### Views"
   ]
  },
  {
   "cell_type": "code",
   "execution_count": null,
   "metadata": {
    "ExecuteTime": {
     "end_time": "2017-03-22T14:36:45.709591Z",
     "start_time": "2017-03-22T15:36:45.702978+01:00"
    },
    "collapsed": false
   },
   "outputs": [],
   "source": [
    "rs = a.reshape((10,2))\n",
    "#rs = a.view()\n",
    "#rs.shape = (10, 2)\n",
    "rs, a"
   ]
  },
  {
   "cell_type": "markdown",
   "metadata": {
    "deletable": true,
    "editable": true
   },
   "source": [
    "### Basic Math:\n",
    "* Elementwise\n",
    "* Broadcasting"
   ]
  },
  {
   "cell_type": "code",
   "execution_count": null,
   "metadata": {
    "ExecuteTime": {
     "end_time": "2017-03-22T14:43:57.403116Z",
     "start_time": "2017-03-22T15:43:57.400836+01:00"
    },
    "collapsed": false,
    "deletable": true,
    "editable": true
   },
   "outputs": [],
   "source": [
    "a = (np.arange(10) + 1) * np.arange(10,20, dtype=np.float128)"
   ]
  },
  {
   "cell_type": "code",
   "execution_count": null,
   "metadata": {
    "ExecuteTime": {
     "end_time": "2017-03-22T14:04:44.734704Z",
     "start_time": "2017-03-22T15:04:44.715889+01:00"
    },
    "collapsed": true,
    "deletable": true,
    "editable": true
   },
   "outputs": [],
   "source": [
    "b = np.arange(10) - 5"
   ]
  },
  {
   "cell_type": "code",
   "execution_count": null,
   "metadata": {
    "ExecuteTime": {
     "end_time": "2017-03-22T14:43:58.964475Z",
     "start_time": "2017-03-22T15:43:58.959657+01:00"
    },
    "collapsed": false,
    "deletable": true,
    "editable": true
   },
   "outputs": [],
   "source": [
    "# outer product; matrix structure\n",
    "A = np.outer(a, b)\n",
    "(a * A.T).T, A.shape"
   ]
  },
  {
   "cell_type": "code",
   "execution_count": null,
   "metadata": {
    "ExecuteTime": {
     "end_time": "2017-03-22T14:45:43.948177Z",
     "start_time": "2017-03-22T15:45:43.943941+01:00"
    },
    "collapsed": false,
    "deletable": true,
    "editable": true
   },
   "outputs": [],
   "source": [
    "# elementwise\n",
    "(a * A) == (A.T * a.reshape((10, 1))).T\n"
   ]
  },
  {
   "cell_type": "code",
   "execution_count": null,
   "metadata": {
    "ExecuteTime": {
     "end_time": "2017-03-22T14:47:49.054980Z",
     "start_time": "2017-03-22T15:47:49.050705+01:00"
    },
    "collapsed": false,
    "deletable": true,
    "editable": true
   },
   "outputs": [],
   "source": [
    "# dot product\n",
    "(a * b).sum(), a @ b, b @ a"
   ]
  },
  {
   "cell_type": "code",
   "execution_count": null,
   "metadata": {
    "ExecuteTime": {
     "end_time": "2017-03-22T14:50:05.136255Z",
     "start_time": "2017-03-22T15:50:04.171447+01:00"
    },
    "collapsed": false,
    "deletable": true,
    "editable": true
   },
   "outputs": [],
   "source": [
    "%timeit (a * b).sum()"
   ]
  },
  {
   "cell_type": "code",
   "execution_count": null,
   "metadata": {
    "ExecuteTime": {
     "end_time": "2017-03-22T14:50:05.953835Z",
     "start_time": "2017-03-22T15:50:05.239449+01:00"
    },
    "collapsed": false,
    "deletable": true,
    "editable": true
   },
   "outputs": [],
   "source": [
    "%timeit a @ b"
   ]
  },
  {
   "cell_type": "code",
   "execution_count": null,
   "metadata": {
    "ExecuteTime": {
     "end_time": "2017-03-22T14:04:51.565119Z",
     "start_time": "2017-03-22T15:04:51.560855+01:00"
    },
    "collapsed": false,
    "deletable": true,
    "editable": true
   },
   "outputs": [],
   "source": [
    "# matrix with vector multiplication\n",
    "A @ a, a @ A"
   ]
  },
  {
   "cell_type": "markdown",
   "metadata": {
    "ExecuteTime": {
     "end_time": "2017-03-21T08:57:33.635780Z",
     "start_time": "2017-03-21T09:57:33.633688+01:00"
    },
    "deletable": true,
    "editable": true
   },
   "source": [
    "### Slicing and some other operations"
   ]
  },
  {
   "cell_type": "code",
   "execution_count": null,
   "metadata": {
    "ExecuteTime": {
     "end_time": "2017-03-22T14:04:51.598265Z",
     "start_time": "2017-03-22T15:04:51.566521+01:00"
    },
    "collapsed": false,
    "deletable": true,
    "editable": true
   },
   "outputs": [],
   "source": [
    "# Slicing!\n",
    "A[:4:2, 1::2]"
   ]
  },
  {
   "cell_type": "code",
   "execution_count": null,
   "metadata": {
    "ExecuteTime": {
     "end_time": "2017-03-22T14:04:51.616235Z",
     "start_time": "2017-03-22T15:04:51.600013+01:00"
    },
    "collapsed": false,
    "deletable": true,
    "editable": true
   },
   "outputs": [],
   "source": [
    "a[np.random.permutation(5)]\n",
    "a[np.array([1, 1, 3, 3, 3])]\n",
    "a[a > 3], a > 3"
   ]
  },
  {
   "cell_type": "code",
   "execution_count": null,
   "metadata": {
    "ExecuteTime": {
     "end_time": "2017-03-22T15:15:13.741245Z",
     "start_time": "2017-03-22T16:15:13.737472+01:00"
    },
    "collapsed": false,
    "deletable": true,
    "editable": true
   },
   "outputs": [],
   "source": [
    "d = a[np.random.permutation(5)]\n",
    "d\n",
    "#d.sort()\n",
    "# Compare to np.sort() which returns a copy"
   ]
  },
  {
   "cell_type": "code",
   "execution_count": null,
   "metadata": {
    "ExecuteTime": {
     "end_time": "2017-03-22T14:04:51.666130Z",
     "start_time": "2017-03-22T15:04:51.647892+01:00"
    },
    "collapsed": false,
    "deletable": true,
    "editable": true
   },
   "outputs": [],
   "source": [
    "#np.sqrt(np.random.randn(25).reshape((5,5)))\n",
    "np.min(np.random.randn(25).reshape((5,5)), axis=1)\n",
    "np.modf(np.random.randn(25).reshape((5,5)))"
   ]
  },
  {
   "cell_type": "code",
   "execution_count": null,
   "metadata": {
    "ExecuteTime": {
     "end_time": "2017-03-22T14:04:51.682973Z",
     "start_time": "2017-03-22T15:04:51.667381+01:00"
    },
    "collapsed": false,
    "deletable": true,
    "editable": true,
    "scrolled": true
   },
   "outputs": [],
   "source": [
    "A.reshape(2, 5, 10), A.reshape(2, 5, 10).transpose(1,0,2)"
   ]
  },
  {
   "cell_type": "code",
   "execution_count": null,
   "metadata": {
    "ExecuteTime": {
     "end_time": "2017-03-22T14:21:06.088035Z",
     "start_time": "2017-03-22T15:21:05.672972+01:00"
    },
    "collapsed": false,
    "deletable": true,
    "editable": true,
    "scrolled": false
   },
   "outputs": [],
   "source": [
    "points = np.arange(-5, 5, 0.01)\n",
    "xs, ys = np.meshgrid(points, points)\n",
    "z = np.sqrt(xs**2 + ys**2)\n",
    "plt.imshow(z, cmap=plt.cm.gray); plt.colorbar()\n",
    "plt.title(\"Image plot of $\\sqrt{x^2 + y^2}$ for a grid of values\")"
   ]
  },
  {
   "cell_type": "markdown",
   "metadata": {
    "deletable": true,
    "editable": true
   },
   "source": [
    "### Linear Algebra & Simulation"
   ]
  },
  {
   "cell_type": "code",
   "execution_count": null,
   "metadata": {
    "ExecuteTime": {
     "end_time": "2017-03-22T15:19:29.639024Z",
     "start_time": "2017-03-22T16:19:29.634752+01:00"
    },
    "collapsed": false,
    "deletable": true,
    "editable": true
   },
   "outputs": [],
   "source": [
    "A.mean(axis=0), A.std(axis=1)"
   ]
  },
  {
   "cell_type": "code",
   "execution_count": null,
   "metadata": {
    "ExecuteTime": {
     "end_time": "2017-03-22T14:04:52.297239Z",
     "start_time": "2017-03-22T15:04:52.263416+01:00"
    },
    "collapsed": false,
    "deletable": true,
    "editable": true
   },
   "outputs": [],
   "source": [
    "B = np.random.randn(5,5)\n",
    "np.linalg.inv(B) @ B\n",
    "np.linalg.qr(B)\n",
    "np.linalg.svd(B)\n",
    "np.linalg.solve(B, np.random.randn(5))"
   ]
  },
  {
   "cell_type": "code",
   "execution_count": null,
   "metadata": {
    "ExecuteTime": {
     "end_time": "2017-03-22T14:04:55.107744Z",
     "start_time": "2017-03-22T15:04:52.299046+01:00"
    },
    "collapsed": false,
    "deletable": true,
    "editable": true
   },
   "outputs": [],
   "source": [
    "r = np.random.rand(100000000).reshape(100000, 1000)\n",
    "steps = np.where(r > .5, 1, -1)\n",
    "walk = steps.cumsum(axis=1)\n",
    "\n",
    "plt.plot(walk.max(axis=0))\n",
    "[plt.plot(w) for w in walk[:10]]\n",
    "plt.plot(walk.min(axis=0))"
   ]
  },
  {
   "cell_type": "markdown",
   "metadata": {
    "deletable": true,
    "editable": true
   },
   "source": [
    "### Logic"
   ]
  },
  {
   "cell_type": "code",
   "execution_count": null,
   "metadata": {
    "ExecuteTime": {
     "end_time": "2017-03-22T14:04:58.823370Z",
     "start_time": "2017-03-22T15:04:55.108967+01:00"
    },
    "collapsed": false,
    "deletable": true,
    "editable": true
   },
   "outputs": [],
   "source": [
    "%%timeit\n",
    "np.where(r > .5, 1, -1).cumsum(axis=1)"
   ]
  },
  {
   "cell_type": "markdown",
   "metadata": {
    "deletable": true,
    "editable": true
   },
   "source": [
    "### Testing and Error Handling"
   ]
  },
  {
   "cell_type": "code",
   "execution_count": null,
   "metadata": {
    "ExecuteTime": {
     "end_time": "2017-03-22T14:04:58.830132Z",
     "start_time": "2017-03-22T15:04:58.824978+01:00"
    },
    "collapsed": false,
    "deletable": true,
    "editable": true
   },
   "outputs": [],
   "source": [
    "np.testing.assert_array_almost_equal(np.linalg.inv(B) @ B, np.identity(5))\n",
    "np.allclose(np.linalg.inv(B) @ B, np.identity(5))"
   ]
  },
  {
   "cell_type": "code",
   "execution_count": null,
   "metadata": {
    "ExecuteTime": {
     "end_time": "2017-03-22T14:22:08.841426Z",
     "start_time": "2017-03-22T15:22:08.836742+01:00"
    },
    "collapsed": false,
    "scrolled": true
   },
   "outputs": [],
   "source": [
    "np.sqrt(-1)\n",
    "# np.seterr()   # ignore, warn, raise, call, print, log\n",
    "# np.seterrcall()"
   ]
  },
  {
   "cell_type": "markdown",
   "metadata": {
    "deletable": true,
    "editable": true
   },
   "source": [
    "### Further Reading:\n",
    "* [Numpy Documentation](https://docs.scipy.org/doc/numpy/reference/)\n",
    "* [Numpy for Matlab Users](https://docs.scipy.org/doc/numpy-dev/user/numpy-for-matlab-users.html)\n",
    "* [Scipy Documentation](https://docs.scipy.org/doc/scipy/reference)\n",
    "* [Matplotlib Documentation](http://matplotlib.org/contents.html)\n"
   ]
  }
 ],
 "metadata": {
  "kernelspec": {
   "display_name": "Python 3",
   "language": "python",
   "name": "python3"
  },
  "language_info": {
   "codemirror_mode": {
    "name": "ipython",
    "version": 3
   },
   "file_extension": ".py",
   "mimetype": "text/x-python",
   "name": "python",
   "nbconvert_exporter": "python",
   "pygments_lexer": "ipython3",
   "version": "3.5.2"
  }
 },
 "nbformat": 4,
 "nbformat_minor": 2
}
